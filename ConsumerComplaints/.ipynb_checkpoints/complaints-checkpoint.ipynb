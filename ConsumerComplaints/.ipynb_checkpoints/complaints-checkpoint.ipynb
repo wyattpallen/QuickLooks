{
 "cells": [
  {
   "cell_type": "code",
   "execution_count": 1,
   "metadata": {},
   "outputs": [],
   "source": [
    "import pandas as pd\n",
    "import matplotlib.pyplot as plt\n",
    "import matplotlib as mpl"
   ]
  },
  {
   "cell_type": "code",
   "execution_count": 2,
   "metadata": {},
   "outputs": [
    {
     "data": {
      "text/plain": [
       "'The Consumer Complaint Database is a collection of complaints about consumer financial products and services that we sent to companies for response. Complaints are published after the company responds, confirming a commercial relationship with the consumer, or after 15 days, whichever comes first. Complaints referred to other regulators, such as complaints about depository institutions with less than $10 billion in assets, are not published in the Consumer Complaint Database.'"
      ]
     },
     "execution_count": 2,
     "metadata": {},
     "output_type": "execute_result"
    }
   ],
   "source": [
    "'''The Consumer Complaint Database is a collection of complaints about consumer financial products and services that we sent to companies for response. Complaints are published after the company responds, confirming a commercial relationship with the consumer, or after 15 days, whichever comes first. Complaints referred to other regulators, such as complaints about depository institutions with less than $10 billion in assets, are not published in the Consumer Complaint Database.'''"
   ]
  },
  {
   "cell_type": "code",
   "execution_count": 3,
   "metadata": {},
   "outputs": [],
   "source": [
    "complaints_df = pd.DataFrame()\n",
    "cols = ['Date received', \n",
    "        'Product', \n",
    "        'Sub-product', \n",
    "        'Issue', \n",
    "        'Sub-issue',\n",
    "        'Consumer complaint narrative', \n",
    "        'Company public response', \n",
    "        'Company', \n",
    "        'State', \n",
    "        'Date sent to company', \n",
    "        'Company response to consumer', \n",
    "        'Timely response?', \n",
    "        'Consumer disputed?']\n",
    "for c in pd.read_csv('data/Consumer_Complaints.csv', chunksize = 10000, header=0, usecols=cols):\n",
    "    complaints_df = complaints_df.append(c)"
   ]
  },
  {
   "cell_type": "code",
   "execution_count": 4,
   "metadata": {},
   "outputs": [
    {
     "data": {
      "text/html": [
       "<div>\n",
       "<style scoped>\n",
       "    .dataframe tbody tr th:only-of-type {\n",
       "        vertical-align: middle;\n",
       "    }\n",
       "\n",
       "    .dataframe tbody tr th {\n",
       "        vertical-align: top;\n",
       "    }\n",
       "\n",
       "    .dataframe thead th {\n",
       "        text-align: right;\n",
       "    }\n",
       "</style>\n",
       "<table border=\"1\" class=\"dataframe\">\n",
       "  <thead>\n",
       "    <tr style=\"text-align: right;\">\n",
       "      <th></th>\n",
       "      <th>Date received</th>\n",
       "      <th>Product</th>\n",
       "      <th>Sub-product</th>\n",
       "      <th>Issue</th>\n",
       "      <th>Sub-issue</th>\n",
       "      <th>Consumer complaint narrative</th>\n",
       "      <th>Company public response</th>\n",
       "      <th>Company</th>\n",
       "      <th>State</th>\n",
       "      <th>Date sent to company</th>\n",
       "      <th>Company response to consumer</th>\n",
       "      <th>Timely response?</th>\n",
       "      <th>Consumer disputed?</th>\n",
       "    </tr>\n",
       "  </thead>\n",
       "  <tbody>\n",
       "    <tr>\n",
       "      <td>0</td>\n",
       "      <td>09/20/2019</td>\n",
       "      <td>Debt collection</td>\n",
       "      <td>Other debt</td>\n",
       "      <td>Attempts to collect debt not owed</td>\n",
       "      <td>Debt is not yours</td>\n",
       "      <td>NaN</td>\n",
       "      <td>Company can't verify or dispute the facts in t...</td>\n",
       "      <td>CCS Financial Services, Inc.</td>\n",
       "      <td>IL</td>\n",
       "      <td>09/20/2019</td>\n",
       "      <td>Closed with explanation</td>\n",
       "      <td>Yes</td>\n",
       "      <td>NaN</td>\n",
       "    </tr>\n",
       "    <tr>\n",
       "      <td>1</td>\n",
       "      <td>09/20/2019</td>\n",
       "      <td>Credit reporting, credit repair services, or o...</td>\n",
       "      <td>Credit reporting</td>\n",
       "      <td>Problem with fraud alerts or security freezes</td>\n",
       "      <td>NaN</td>\n",
       "      <td>NaN</td>\n",
       "      <td>NaN</td>\n",
       "      <td>ONEMAIN FINANCIAL HOLDINGS, LLC.</td>\n",
       "      <td>WA</td>\n",
       "      <td>09/20/2019</td>\n",
       "      <td>In progress</td>\n",
       "      <td>Yes</td>\n",
       "      <td>NaN</td>\n",
       "    </tr>\n",
       "    <tr>\n",
       "      <td>2</td>\n",
       "      <td>09/20/2019</td>\n",
       "      <td>Checking or savings account</td>\n",
       "      <td>Checking account</td>\n",
       "      <td>Managing an account</td>\n",
       "      <td>Problem accessing account</td>\n",
       "      <td>NaN</td>\n",
       "      <td>NaN</td>\n",
       "      <td>ALLY FINANCIAL INC.</td>\n",
       "      <td>CA</td>\n",
       "      <td>09/20/2019</td>\n",
       "      <td>In progress</td>\n",
       "      <td>Yes</td>\n",
       "      <td>NaN</td>\n",
       "    </tr>\n",
       "    <tr>\n",
       "      <td>3</td>\n",
       "      <td>09/20/2019</td>\n",
       "      <td>Debt collection</td>\n",
       "      <td>Medical debt</td>\n",
       "      <td>Attempts to collect debt not owed</td>\n",
       "      <td>Debt was result of identity theft</td>\n",
       "      <td>NaN</td>\n",
       "      <td>NaN</td>\n",
       "      <td>Commonwealth Financial Systems, Inc.</td>\n",
       "      <td>NV</td>\n",
       "      <td>09/20/2019</td>\n",
       "      <td>Closed with explanation</td>\n",
       "      <td>Yes</td>\n",
       "      <td>NaN</td>\n",
       "    </tr>\n",
       "    <tr>\n",
       "      <td>4</td>\n",
       "      <td>09/20/2019</td>\n",
       "      <td>Payday loan, title loan, or personal loan</td>\n",
       "      <td>Payday loan</td>\n",
       "      <td>Can't stop withdrawals from your bank account</td>\n",
       "      <td>NaN</td>\n",
       "      <td>NaN</td>\n",
       "      <td>NaN</td>\n",
       "      <td>Tennessee Quick Cash, Inc.</td>\n",
       "      <td>TN</td>\n",
       "      <td>09/20/2019</td>\n",
       "      <td>In progress</td>\n",
       "      <td>Yes</td>\n",
       "      <td>NaN</td>\n",
       "    </tr>\n",
       "  </tbody>\n",
       "</table>\n",
       "</div>"
      ],
      "text/plain": [
       "  Date received                                            Product  \\\n",
       "0    09/20/2019                                    Debt collection   \n",
       "1    09/20/2019  Credit reporting, credit repair services, or o...   \n",
       "2    09/20/2019                        Checking or savings account   \n",
       "3    09/20/2019                                    Debt collection   \n",
       "4    09/20/2019          Payday loan, title loan, or personal loan   \n",
       "\n",
       "        Sub-product                                          Issue  \\\n",
       "0        Other debt              Attempts to collect debt not owed   \n",
       "1  Credit reporting  Problem with fraud alerts or security freezes   \n",
       "2  Checking account                            Managing an account   \n",
       "3      Medical debt              Attempts to collect debt not owed   \n",
       "4       Payday loan  Can't stop withdrawals from your bank account   \n",
       "\n",
       "                           Sub-issue Consumer complaint narrative  \\\n",
       "0                  Debt is not yours                          NaN   \n",
       "1                                NaN                          NaN   \n",
       "2          Problem accessing account                          NaN   \n",
       "3  Debt was result of identity theft                          NaN   \n",
       "4                                NaN                          NaN   \n",
       "\n",
       "                             Company public response  \\\n",
       "0  Company can't verify or dispute the facts in t...   \n",
       "1                                                NaN   \n",
       "2                                                NaN   \n",
       "3                                                NaN   \n",
       "4                                                NaN   \n",
       "\n",
       "                                Company State Date sent to company  \\\n",
       "0          CCS Financial Services, Inc.    IL           09/20/2019   \n",
       "1      ONEMAIN FINANCIAL HOLDINGS, LLC.    WA           09/20/2019   \n",
       "2                   ALLY FINANCIAL INC.    CA           09/20/2019   \n",
       "3  Commonwealth Financial Systems, Inc.    NV           09/20/2019   \n",
       "4            Tennessee Quick Cash, Inc.    TN           09/20/2019   \n",
       "\n",
       "  Company response to consumer Timely response? Consumer disputed?  \n",
       "0      Closed with explanation              Yes                NaN  \n",
       "1                  In progress              Yes                NaN  \n",
       "2                  In progress              Yes                NaN  \n",
       "3      Closed with explanation              Yes                NaN  \n",
       "4                  In progress              Yes                NaN  "
      ]
     },
     "execution_count": 4,
     "metadata": {},
     "output_type": "execute_result"
    }
   ],
   "source": [
    "complaints_df.head()"
   ]
  },
  {
   "cell_type": "code",
   "execution_count": 7,
   "metadata": {},
   "outputs": [
    {
     "name": "stdout",
     "output_type": "stream",
     "text": [
      "12/01/2011 - 09/20/2019\n"
     ]
    }
   ],
   "source": [
    "print(str(complaints_df.iloc[-1, 0]) + ' - ' + str(complaints_df.iloc[0, 0]))"
   ]
  },
  {
   "cell_type": "markdown",
   "metadata": {},
   "source": [
    "### Get complaints from years January 1, 2012 through June 30, 2019"
   ]
  },
  {
   "cell_type": "code",
   "execution_count": 8,
   "metadata": {
    "scrolled": true
   },
   "outputs": [
    {
     "data": {
      "text/plain": [
       "str"
      ]
     },
     "execution_count": 8,
     "metadata": {},
     "output_type": "execute_result"
    }
   ],
   "source": [
    "type(complaints_df['Date received'][0])"
   ]
  },
  {
   "cell_type": "code",
   "execution_count": 9,
   "metadata": {},
   "outputs": [
    {
     "name": "stdout",
     "output_type": "stream",
     "text": [
      "2012-01-01 00:00:00 - 2019-06-30 00:00:00\n"
     ]
    }
   ],
   "source": [
    "complaints_df['Date received'] = pd.to_datetime(complaints_df['Date received'], format='%m/%d/%Y')\n",
    "complaints_df['Date sent to company'] = pd.to_datetime(complaints_df['Date sent to company'], format='%m/%d/%Y')\n",
    "complaints_df_cut = complaints_df[(complaints_df['Date received'] >= pd.to_datetime('01/01/2012', format='%m/%d/%Y')) &\n",
    "           (complaints_df['Date received'] <= pd.to_datetime('06/30/2019', format='%m/%d/%Y'))]\n",
    "print(str(complaints_df_cut.iloc[-1, 0]) + ' - ' + str(complaints_df_cut.iloc[0, 0]))"
   ]
  },
  {
   "cell_type": "code",
   "execution_count": 17,
   "metadata": {},
   "outputs": [],
   "source": [
    "df_equifax = complaints_df_cut[complaints_df_cut['Company'] == 'EQUIFAX, INC.']\n",
    "equifax_complaints = df_equifax['Date received'].value_counts()\n",
    "equifax_complaints = df_equifax.groupby(by=[df_equifax['Date received'].dt.year, \n",
    "                                            df_equifax['Date received'].dt.month])['Date received'].value_counts()\n",
    "equifax_complaints = equifax_complaints.groupby([equifax_complaints.index.get_level_values(0),\n",
    "                                                equifax_complaints.index.get_level_values(1)]).sum()"
   ]
  },
  {
   "cell_type": "code",
   "execution_count": 18,
   "metadata": {
    "scrolled": true
   },
   "outputs": [
    {
     "name": "stdout",
     "output_type": "stream",
     "text": [
      "2012-10-14 00:00:00 - 2019-06-30 00:00:00\n"
     ]
    }
   ],
   "source": [
    "print(str(df_equifax.iloc[-1, 0]) + ' - ' + str(df_equifax.iloc[0, 0]))"
   ]
  },
  {
   "cell_type": "code",
   "execution_count": 19,
   "metadata": {},
   "outputs": [
    {
     "data": {
      "text/plain": [
       "Date received  Date received\n",
       "2012           10                127\n",
       "               11                265\n",
       "               12                230\n",
       "2013           1                 271\n",
       "               2                 372\n",
       "                                ... \n",
       "2019           2                2571\n",
       "               3                3206\n",
       "               4                3145\n",
       "               5                3339\n",
       "               6                3518\n",
       "Name: Date received, Length: 81, dtype: int64"
      ]
     },
     "execution_count": 19,
     "metadata": {},
     "output_type": "execute_result"
    }
   ],
   "source": [
    "equifax_complaints"
   ]
  },
  {
   "cell_type": "code",
   "execution_count": 20,
   "metadata": {
    "scrolled": true
   },
   "outputs": [],
   "source": [
    "equifax_complaints_index = pd.to_datetime({'year': equifax_complaints.index.get_level_values(0),\n",
    "                                           'month': equifax_complaints.index.get_level_values(1),\n",
    "                                           'day': 1})"
   ]
  },
  {
   "cell_type": "code",
   "execution_count": 22,
   "metadata": {},
   "outputs": [
    {
     "data": {
      "image/png": "[encoded data removed]",
      "text/plain": [
       "<Figure size 720x288 with 1 Axes>"
      ]
     },
     "metadata": {
      "needs_background": "light"
     },
     "output_type": "display_data"
    }
   ],
   "source": [
    "fig = plt.figure(figsize=(10,4))\n",
    "\n",
    "ax = fig.add_axes([0,0,1,1])\n",
    "ax.scatter(y = equifax_complaints, x = equifax_complaints_index)\n",
    "ax.axvline(x=pd.to_datetime('09/01/2017', format='%m/%d/%Y'), color='r')\n",
    "\n",
    "plt.show()"
   ]
  },
  {
   "cell_type": "code",
   "execution_count": null,
   "metadata": {},
   "outputs": [],
   "source": []
  },
  {
   "cell_type": "code",
   "execution_count": null,
   "metadata": {},
   "outputs": [],
   "source": []
  },
  {
   "cell_type": "markdown",
   "metadata": {},
   "source": [
    "## Which Financial Institutions have the most complaints per consumer account"
   ]
  },
  {
   "cell_type": "code",
   "execution_count": 24,
   "metadata": {},
   "outputs": [],
   "source": [
    "import os\n",
    "accnts_df = pd.DataFrame()\n",
    "directory = 'data/transaction_accounts'\n",
    "for file in os.listdir(directory):\n",
    "    temp_df = pd.read_csv(os.path.join(directory,file), header=0, usecols=['namehcr', 'trnipcoc'])\n",
    "    accnts_df = accnts_df.append(temp_df)\n",
    "accnts_df = accnts_df.set_index('namehcr')"
   ]
  },
  {
   "cell_type": "code",
   "execution_count": 25,
   "metadata": {},
   "outputs": [],
   "source": [
    "complaints_ser = complaints_df[['Date received', 'Company']]"
   ]
  },
  {
   "cell_type": "code",
   "execution_count": 26,
   "metadata": {},
   "outputs": [
    {
     "data": {
      "text/plain": [
       "0                  CCS Financial Services, Inc.\n",
       "1              ONEMAIN FINANCIAL HOLDINGS, LLC.\n",
       "2                           ALLY FINANCIAL INC.\n",
       "3          Commonwealth Financial Systems, Inc.\n",
       "4                    Tennessee Quick Cash, Inc.\n",
       "                           ...                 \n",
       "1388794                    JPMORGAN CHASE & CO.\n",
       "1388795                          CITIBANK, N.A.\n",
       "1388796                   WELLS FARGO & COMPANY\n",
       "1388797                    JPMORGAN CHASE & CO.\n",
       "1388798                   WELLS FARGO & COMPANY\n",
       "Name: Company, Length: 1388799, dtype: object"
      ]
     },
     "execution_count": 26,
     "metadata": {},
     "output_type": "execute_result"
    }
   ],
   "source": [
    "complaints_ser"
   ]
  },
  {
   "cell_type": "code",
   "execution_count": null,
   "metadata": {},
   "outputs": [],
   "source": []
  }
 ],
 "metadata": {
  "kernelspec": {
   "display_name": "Python 3",
   "language": "python",
   "name": "python3"
  },
  "language_info": {
   "codemirror_mode": {
    "name": "ipython",
    "version": 3
   },
   "file_extension": ".py",
   "mimetype": "text/x-python",
   "name": "python",
   "nbconvert_exporter": "python",
   "pygments_lexer": "ipython3",
   "version": "3.7.4"
  }
 },
 "nbformat": 4,
 "nbformat_minor": 2
}
