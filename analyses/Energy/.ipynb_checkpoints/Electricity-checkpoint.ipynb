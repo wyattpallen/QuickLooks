{
 "cells": [
  {
   "cell_type": "code",
   "execution_count": 1,
   "metadata": {},
   "outputs": [],
   "source": [
    "import requests\n",
    "import json\n",
    "import pandas as pd\n",
    "import sys"
   ]
  },
  {
   "cell_type": "code",
   "execution_count": 28,
   "metadata": {},
   "outputs": [],
   "source": [
    "def _get_series_list(cat_id, api_key, frequency, cat_list=None, series_list = None): # Returns list of leaf series from parent category\n",
    "    \n",
    "    if cat_list is None:\n",
    "        cat_list = []\n",
    "    if series_list is None:\n",
    "        series_list = []\n",
    "    if type(api_key) is not str:\n",
    "        raise TypeError('api_key is not of type string')\n",
    "        \n",
    "    id_url = 'http://api.eia.gov/category/?api_key={}&category_id={}'.format(api_key, cat_id)\n",
    "    print('Fetching...', id_url)\n",
    "    req = requests.get(id_url)\n",
    "    \n",
    "    if not req.ok:\n",
    "        raise ValueError('Bad request, check your cat_id or api_key')\n",
    "        \n",
    "    text = json.loads(req.text)\n",
    "    \n",
    "    if 'data' in text.keys() and 'error' in text['data'].keys():\n",
    "        raise ValueError(text['data']['error'])\n",
    "    if text['category']['childcategories']: # Contains category\n",
    "        \n",
    "        for c in text['category']['childcategories']:\n",
    "            cat_new = cat_list + [{\n",
    "                'cat_id': text['category']['category_id'],\n",
    "                'name': text['category']['name']\n",
    "            }]\n",
    "            series_list = series_list + _get_series_list(c['category_id'], \n",
    "                                                         api_key=api_key,\n",
    "                                                         frequency=frequency,\n",
    "                                                         cat_list=cat_new, \n",
    "                                                         series_list=series_list)\n",
    "        return series_list\n",
    "    elif text['category']['childseries']: # No sub-categories, only series\n",
    "        in_series = text['category']['childseries']\n",
    "        out_series = []\n",
    "        for s in in_series:\n",
    "            if frequency is not None and 'f' in s.keys() and s['f'] != frequency: # Check matches the frequency\n",
    "                continue\n",
    "            else:\n",
    "                s['categories'] = cat_list  \n",
    "                out_series.append(s)             \n",
    "        print('Found series with', len(out_series), 'matching entries')\n",
    "        return out_series\n",
    "            \n",
    "def _series_list_to_df(series_list, api_key=None):\n",
    "    out_df = pd.DataFrame()\n",
    "    count = 1\n",
    "    ser_len = len(series_list)\n",
    "    for series in series_list:\n",
    "        sys.stdout.write('\\r')\n",
    "        sys.stdout.write(str(count)+'/'+str(ser_len))\n",
    "        sys.stdout.flush()\n",
    "        count += 1\n",
    "        \n",
    "        categories = series.pop('categories')\n",
    "        series_id = series['series_id']\n",
    "        \n",
    "        id_url = 'http://api.eia.gov/series/?api_key={}&series_id={}'.format(api_key, series_id)\n",
    "        \n",
    "        req = requests.get(id_url)\n",
    "        text = json.loads(req.text)\n",
    "\n",
    "        df = _series_item_to_df(series_data = text['series'], parent_cat=categories)\n",
    "        \n",
    "        out_df = out_df.append(df, sort=False)\n",
    "    return out_df\n",
    "\n",
    "def _series_item_to_df(series_data, parent_cat):\n",
    "    for s in series_data:\n",
    "        df = pd.DataFrame(s.pop('data'), columns=['Year', 'Value'])\n",
    "        for k,v in s.items():\n",
    "            df[k] = v\n",
    "    for i in range(len(parent_cat)):\n",
    "        df['parent_cat_'+str(i)+'_id'] = parent_cat[i]['cat_id']\n",
    "        df['parent_cat_'+str(i)+'_name'] = parent_cat[i]['name']\n",
    "    return df\n",
    "\n",
    "def get_series_data(parent_cat_id, api_key=None, frequency=None):\n",
    "    series_list = _get_series_list(parent_cat_id, api_key=api_key, frequency=frequency)\n",
    "    out_df = _series_list_to_df(series_list, api_key=api_key)\n",
    "    return out_df"
   ]
  },
  {
   "cell_type": "markdown",
   "metadata": {},
   "source": [
    "## Residential Electricity"
   ]
  },
  {
   "cell_type": "code",
   "execution_count": 29,
   "metadata": {},
   "outputs": [
    {
     "name": "stdout",
     "output_type": "stream",
     "text": [
      "Fetching... http://api.eia.gov/category/?api_key=0735ca6233cbca26f01a857fc7787155&category_id=1002\n",
      "Found series with 62 matching entries\n",
      "62/62Fetching... http://api.eia.gov/category/?api_key=0735ca6233cbca26f01a857fc7787155&category_id=1012\n",
      "Found series with 62 matching entries\n",
      "62/62"
     ]
    }
   ],
   "source": [
    "#### Category ids\n",
    "# Retail Sales: 1002\n",
    "sales = get_series_data(1002, api_key='0735ca6233cbca26f01a857fc7787155', frequency='M')\n",
    "# Retail Price: 40\n",
    "price = get_series_data(1012, api_key='0735ca6233cbca26f01a857fc7787155', frequency='M')"
   ]
  },
  {
   "cell_type": "code",
   "execution_count": 45,
   "metadata": {},
   "outputs": [
    {
     "name": "stdout",
     "output_type": "stream",
     "text": [
      "(224, 14)\n",
      "(224, 14)\n",
      "(224, 14)\n",
      "(224, 14)\n",
      "(224, 14)\n",
      "(224, 14)\n",
      "(224, 14)\n",
      "(224, 14)\n",
      "(224, 14)\n",
      "(224, 14)\n",
      "(224, 14)\n",
      "(224, 14)\n",
      "(224, 14)\n",
      "(224, 14)\n",
      "(224, 14)\n",
      "(224, 14)\n",
      "(224, 14)\n",
      "(224, 14)\n",
      "(224, 14)\n",
      "(224, 14)\n",
      "(224, 14)\n",
      "(224, 14)\n",
      "(224, 14)\n",
      "(224, 14)\n",
      "(224, 14)\n",
      "(224, 14)\n",
      "(224, 14)\n",
      "(224, 14)\n",
      "(224, 14)\n",
      "(224, 14)\n",
      "(224, 14)\n",
      "(224, 14)\n",
      "(224, 14)\n",
      "(224, 14)\n",
      "(224, 14)\n",
      "(224, 14)\n",
      "(224, 14)\n",
      "(224, 14)\n",
      "(224, 14)\n",
      "(224, 14)\n",
      "(224, 14)\n",
      "(224, 14)\n",
      "(224, 14)\n",
      "(224, 14)\n",
      "(224, 14)\n",
      "(224, 14)\n",
      "(224, 14)\n",
      "(224, 14)\n",
      "(224, 14)\n",
      "(224, 14)\n",
      "(224, 14)\n",
      "(224, 14)\n"
     ]
    }
   ],
   "source": [
    "for s in sales.groupby('iso3166'):\n",
    "    print(s[1].shape)"
   ]
  },
  {
   "cell_type": "code",
   "execution_count": null,
   "metadata": {},
   "outputs": [],
   "source": []
  }
 ],
 "metadata": {
  "kernelspec": {
   "display_name": "Python 3",
   "language": "python",
   "name": "python3"
  },
  "language_info": {
   "codemirror_mode": {
    "name": "ipython",
    "version": 3
   },
   "file_extension": ".py",
   "mimetype": "text/x-python",
   "name": "python",
   "nbconvert_exporter": "python",
   "pygments_lexer": "ipython3",
   "version": "3.7.4"
  }
 },
 "nbformat": 4,
 "nbformat_minor": 4
}
