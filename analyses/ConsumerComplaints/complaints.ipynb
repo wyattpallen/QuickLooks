{
 "cells": [
  {
   "cell_type": "code",
   "execution_count": 1,
   "metadata": {},
   "outputs": [],
   "source": [
    "import pandas as pd\n",
    "import matplotlib.pyplot as plt\n",
    "import matplotlib as mpl\n",
    "from matplotlib import animation\n",
    "import numpy as np\n",
    "from pandas.plotting import register_matplotlib_converters\n",
    "register_matplotlib_converters()\n",
    "import networkx as nx"
   ]
  },
  {
   "cell_type": "markdown",
   "metadata": {},
   "source": [
    "### A Look at Consumer Complaints for Financial Instituions"
   ]
  },
  {
   "cell_type": "markdown",
   "metadata": {},
   "source": [
    "#### Get the financial complaints data from the Consumer Financial Protection Bureau"
   ]
  },
  {
   "cell_type": "markdown",
   "metadata": {},
   "source": [
    "https://www.consumerfinance.gov/data-research/consumer-complaints/"
   ]
  },
  {
   "cell_type": "markdown",
   "metadata": {},
   "source": [
    "From source:\\\n",
    "The Consumer Complaint Database is a collection of complaints about consumer financial products and services that we sent to companies for response. Complaints are published after the company responds, confirming a commercial relationship with the consumer, or after 15 days, whichever comes first. Complaints referred to other regulators, such as complaints about depository institutions with less than $10 billion in assets, are not published in the Consumer Complaint Database."
   ]
  },
  {
   "cell_type": "code",
   "execution_count": 2,
   "metadata": {},
   "outputs": [],
   "source": [
    "complaints_df = pd.DataFrame()\n",
    "cols = ['Date received', \n",
    "        'Product', \n",
    "        'Sub-product', \n",
    "        'Issue', \n",
    "        'Sub-issue',\n",
    "        'Consumer complaint narrative', \n",
    "        'Company public response', \n",
    "        'Company', \n",
    "        'State', \n",
    "        'Date sent to company', \n",
    "        'Company response to consumer', \n",
    "        'Timely response?', \n",
    "        'Consumer disputed?']\n",
    "for c in pd.read_csv('data/Consumer_Complaints.csv', chunksize = 10000, header=0, usecols=cols):\n",
    "    complaints_df = complaints_df.append(c)"
   ]
  },
  {
   "cell_type": "code",
   "execution_count": 3,
   "metadata": {},
   "outputs": [
    {
     "data": {
      "text/html": [
       "<div>\n",
       "<style scoped>\n",
       "    .dataframe tbody tr th:only-of-type {\n",
       "        vertical-align: middle;\n",
       "    }\n",
       "\n",
       "    .dataframe tbody tr th {\n",
       "        vertical-align: top;\n",
       "    }\n",
       "\n",
       "    .dataframe thead th {\n",
       "        text-align: right;\n",
       "    }\n",
       "</style>\n",
       "<table border=\"1\" class=\"dataframe\">\n",
       "  <thead>\n",
       "    <tr style=\"text-align: right;\">\n",
       "      <th></th>\n",
       "      <th>Date received</th>\n",
       "      <th>Product</th>\n",
       "      <th>Sub-product</th>\n",
       "      <th>Issue</th>\n",
       "      <th>Sub-issue</th>\n",
       "      <th>Consumer complaint narrative</th>\n",
       "      <th>Company public response</th>\n",
       "      <th>Company</th>\n",
       "      <th>State</th>\n",
       "      <th>Date sent to company</th>\n",
       "      <th>Company response to consumer</th>\n",
       "      <th>Timely response?</th>\n",
       "      <th>Consumer disputed?</th>\n",
       "    </tr>\n",
       "  </thead>\n",
       "  <tbody>\n",
       "    <tr>\n",
       "      <td>0</td>\n",
       "      <td>09/20/2019</td>\n",
       "      <td>Debt collection</td>\n",
       "      <td>Other debt</td>\n",
       "      <td>Attempts to collect debt not owed</td>\n",
       "      <td>Debt is not yours</td>\n",
       "      <td>NaN</td>\n",
       "      <td>Company can't verify or dispute the facts in t...</td>\n",
       "      <td>CCS Financial Services, Inc.</td>\n",
       "      <td>IL</td>\n",
       "      <td>09/20/2019</td>\n",
       "      <td>Closed with explanation</td>\n",
       "      <td>Yes</td>\n",
       "      <td>NaN</td>\n",
       "    </tr>\n",
       "    <tr>\n",
       "      <td>1</td>\n",
       "      <td>09/20/2019</td>\n",
       "      <td>Credit reporting, credit repair services, or o...</td>\n",
       "      <td>Credit reporting</td>\n",
       "      <td>Problem with fraud alerts or security freezes</td>\n",
       "      <td>NaN</td>\n",
       "      <td>NaN</td>\n",
       "      <td>NaN</td>\n",
       "      <td>ONEMAIN FINANCIAL HOLDINGS, LLC.</td>\n",
       "      <td>WA</td>\n",
       "      <td>09/20/2019</td>\n",
       "      <td>In progress</td>\n",
       "      <td>Yes</td>\n",
       "      <td>NaN</td>\n",
       "    </tr>\n",
       "    <tr>\n",
       "      <td>2</td>\n",
       "      <td>09/20/2019</td>\n",
       "      <td>Checking or savings account</td>\n",
       "      <td>Checking account</td>\n",
       "      <td>Managing an account</td>\n",
       "      <td>Problem accessing account</td>\n",
       "      <td>NaN</td>\n",
       "      <td>NaN</td>\n",
       "      <td>ALLY FINANCIAL INC.</td>\n",
       "      <td>CA</td>\n",
       "      <td>09/20/2019</td>\n",
       "      <td>In progress</td>\n",
       "      <td>Yes</td>\n",
       "      <td>NaN</td>\n",
       "    </tr>\n",
       "    <tr>\n",
       "      <td>3</td>\n",
       "      <td>09/20/2019</td>\n",
       "      <td>Debt collection</td>\n",
       "      <td>Medical debt</td>\n",
       "      <td>Attempts to collect debt not owed</td>\n",
       "      <td>Debt was result of identity theft</td>\n",
       "      <td>NaN</td>\n",
       "      <td>NaN</td>\n",
       "      <td>Commonwealth Financial Systems, Inc.</td>\n",
       "      <td>NV</td>\n",
       "      <td>09/20/2019</td>\n",
       "      <td>Closed with explanation</td>\n",
       "      <td>Yes</td>\n",
       "      <td>NaN</td>\n",
       "    </tr>\n",
       "    <tr>\n",
       "      <td>4</td>\n",
       "      <td>09/20/2019</td>\n",
       "      <td>Payday loan, title loan, or personal loan</td>\n",
       "      <td>Payday loan</td>\n",
       "      <td>Can't stop withdrawals from your bank account</td>\n",
       "      <td>NaN</td>\n",
       "      <td>NaN</td>\n",
       "      <td>NaN</td>\n",
       "      <td>Tennessee Quick Cash, Inc.</td>\n",
       "      <td>TN</td>\n",
       "      <td>09/20/2019</td>\n",
       "      <td>In progress</td>\n",
       "      <td>Yes</td>\n",
       "      <td>NaN</td>\n",
       "    </tr>\n",
       "  </tbody>\n",
       "</table>\n",
       "</div>"
      ],
      "text/plain": [
       "  Date received                                            Product  \\\n",
       "0    09/20/2019                                    Debt collection   \n",
       "1    09/20/2019  Credit reporting, credit repair services, or o...   \n",
       "2    09/20/2019                        Checking or savings account   \n",
       "3    09/20/2019                                    Debt collection   \n",
       "4    09/20/2019          Payday loan, title loan, or personal loan   \n",
       "\n",
       "        Sub-product                                          Issue  \\\n",
       "0        Other debt              Attempts to collect debt not owed   \n",
       "1  Credit reporting  Problem with fraud alerts or security freezes   \n",
       "2  Checking account                            Managing an account   \n",
       "3      Medical debt              Attempts to collect debt not owed   \n",
       "4       Payday loan  Can't stop withdrawals from your bank account   \n",
       "\n",
       "                           Sub-issue Consumer complaint narrative  \\\n",
       "0                  Debt is not yours                          NaN   \n",
       "1                                NaN                          NaN   \n",
       "2          Problem accessing account                          NaN   \n",
       "3  Debt was result of identity theft                          NaN   \n",
       "4                                NaN                          NaN   \n",
       "\n",
       "                             Company public response  \\\n",
       "0  Company can't verify or dispute the facts in t...   \n",
       "1                                                NaN   \n",
       "2                                                NaN   \n",
       "3                                                NaN   \n",
       "4                                                NaN   \n",
       "\n",
       "                                Company State Date sent to company  \\\n",
       "0          CCS Financial Services, Inc.    IL           09/20/2019   \n",
       "1      ONEMAIN FINANCIAL HOLDINGS, LLC.    WA           09/20/2019   \n",
       "2                   ALLY FINANCIAL INC.    CA           09/20/2019   \n",
       "3  Commonwealth Financial Systems, Inc.    NV           09/20/2019   \n",
       "4            Tennessee Quick Cash, Inc.    TN           09/20/2019   \n",
       "\n",
       "  Company response to consumer Timely response? Consumer disputed?  \n",
       "0      Closed with explanation              Yes                NaN  \n",
       "1                  In progress              Yes                NaN  \n",
       "2                  In progress              Yes                NaN  \n",
       "3      Closed with explanation              Yes                NaN  \n",
       "4                  In progress              Yes                NaN  "
      ]
     },
     "execution_count": 3,
     "metadata": {},
     "output_type": "execute_result"
    }
   ],
   "source": [
    "complaints_df.head()"
   ]
  },
  {
   "cell_type": "code",
   "execution_count": 4,
   "metadata": {},
   "outputs": [
    {
     "name": "stdout",
     "output_type": "stream",
     "text": [
      "12/01/2011 - 09/20/2019\n"
     ]
    }
   ],
   "source": [
    "print(str(complaints_df.iloc[-1, 0]) + ' - ' + str(complaints_df.iloc[0, 0]))"
   ]
  },
  {
   "cell_type": "markdown",
   "metadata": {},
   "source": [
    "#### Get complaints from years January 1, 2012 through June 30, 2019 to match up quarterly time frames"
   ]
  },
  {
   "cell_type": "code",
   "execution_count": 5,
   "metadata": {},
   "outputs": [
    {
     "name": "stdout",
     "output_type": "stream",
     "text": [
      "2012-01-01 00:00:00 - 2019-06-30 00:00:00\n"
     ]
    }
   ],
   "source": [
    "complaints_df['Date received'] = pd.to_datetime(complaints_df['Date received'], format='%m/%d/%Y')\n",
    "complaints_df['Date sent to company'] = pd.to_datetime(complaints_df['Date sent to company'], format='%m/%d/%Y')\n",
    "complaints_df['Company'] = complaints_df['Company'].str.strip()\n",
    "complaints_df_cut = complaints_df[(complaints_df['Date received'] >= pd.to_datetime('01/01/2012', format='%m/%d/%Y')) &\n",
    "           (complaints_df['Date received'] <= pd.to_datetime('06/30/2019', format='%m/%d/%Y'))]\n",
    "print(str(complaints_df_cut.iloc[-1, 0]) + ' - ' + str(complaints_df_cut.iloc[0, 0]))"
   ]
  },
  {
   "cell_type": "markdown",
   "metadata": {},
   "source": [
    "#### Take a glance at a single example from this dataset"
   ]
  },
  {
   "cell_type": "code",
   "execution_count": 6,
   "metadata": {},
   "outputs": [],
   "source": [
    "df_equifax = complaints_df_cut[complaints_df_cut['Company'] == 'EQUIFAX, INC.']\n",
    "equifax_complaints = df_equifax['Date received'].value_counts()\n",
    "\n",
    "# Aggregate by month\n",
    "equifax_complaints = df_equifax.groupby(by=[df_equifax['Date received'].dt.year, \n",
    "                                            df_equifax['Date received'].dt.month])['Date received'].value_counts()\n",
    "equifax_complaints = equifax_complaints.groupby([equifax_complaints.index.get_level_values(0),\n",
    "                                                equifax_complaints.index.get_level_values(1)]).sum()"
   ]
  },
  {
   "cell_type": "code",
   "execution_count": 7,
   "metadata": {
    "scrolled": true
   },
   "outputs": [
    {
     "name": "stdout",
     "output_type": "stream",
     "text": [
      "2012-10-14 00:00:00 - 2019-06-30 00:00:00\n"
     ]
    }
   ],
   "source": [
    "print(str(df_equifax.iloc[-1, 0]) + ' - ' + str(df_equifax.iloc[0, 0])) # Range of the data"
   ]
  },
  {
   "cell_type": "code",
   "execution_count": 8,
   "metadata": {},
   "outputs": [
    {
     "data": {
      "text/plain": [
       "Date received  Date received\n",
       "2012           10                127\n",
       "               11                265\n",
       "               12                230\n",
       "2013           1                 271\n",
       "               2                 372\n",
       "                                ... \n",
       "2019           2                2571\n",
       "               3                3206\n",
       "               4                3145\n",
       "               5                3339\n",
       "               6                3518\n",
       "Name: Date received, Length: 81, dtype: int64"
      ]
     },
     "execution_count": 8,
     "metadata": {},
     "output_type": "execute_result"
    }
   ],
   "source": [
    "equifax_complaints"
   ]
  },
  {
   "cell_type": "markdown",
   "metadata": {
    "scrolled": true
   },
   "source": [
    "#### Plot the Equifax subset"
   ]
  },
  {
   "cell_type": "code",
   "execution_count": 9,
   "metadata": {},
   "outputs": [
    {
     "data": {
      "image/png": "[encoded data removed]",
      "text/plain": [
       "<Figure size 720x288 with 1 Axes>"
      ]
     },
     "metadata": {
      "needs_background": "light"
     },
     "output_type": "display_data"
    }
   ],
   "source": [
    "equifax_complaints_index = pd.to_datetime({'year': equifax_complaints.index.get_level_values(0),\n",
    "                                           'month': equifax_complaints.index.get_level_values(1),\n",
    "                                           'day': 1})\n",
    "fig = plt.figure(figsize=(10,4))\n",
    "ax = fig.add_axes([0,0,1,1])\n",
    "ax.scatter(y = equifax_complaints, x = equifax_complaints_index)\n",
    "ax.axvline(x=pd.to_datetime('09/01/2017', format='%m/%d/%Y'), color='r')\n",
    "\n",
    "plt.show()"
   ]
  },
  {
   "cell_type": "markdown",
   "metadata": {},
   "source": [
    "#### We can see that consumer complaints for Equifax have increased over time. There is an outlier for the month of September 2017, which coincides with the large databreach at Equifax at that time. "
   ]
  },
  {
   "cell_type": "markdown",
   "metadata": {},
   "source": [
    "#### The consumer complaints data in of itself is of limited use. We can see that unsurprisingly that large firms that service many consumers also recieve many complaints. We won't know whether they recieve a disproportionate amount unless we scale by some metric, for example the number of consumer accounts they hold."
   ]
  },
  {
   "cell_type": "code",
   "execution_count": 10,
   "metadata": {},
   "outputs": [
    {
     "data": {
      "text/plain": [
       "Company\n",
       "EQUIFAX, INC.                             131563\n",
       "Experian Information Solutions Inc.       117384\n",
       "TRANSUNION INTERMEDIATE HOLDINGS, INC.    112649\n",
       "BANK OF AMERICA, NATIONAL ASSOCIATION      85179\n",
       "WELLS FARGO & COMPANY                      73834\n",
       "JPMORGAN CHASE & CO.                       63434\n",
       "CITIBANK, N.A.                             51669\n",
       "CAPITAL ONE FINANCIAL CORPORATION          37418\n",
       "Navient Solutions, LLC.                    30553\n",
       "OCWEN FINANCIAL CORPORATION                28371\n",
       "dtype: int64"
      ]
     },
     "execution_count": 10,
     "metadata": {},
     "output_type": "execute_result"
    }
   ],
   "source": [
    "# Aggregate Complaints across all years\n",
    "complaints_df.groupby('Company').size().sort_values(ascending=False).head(10) "
   ]
  },
  {
   "cell_type": "markdown",
   "metadata": {},
   "source": [
    "### Which Financial Institutions have the most complaints per consumer account?"
   ]
  },
  {
   "cell_type": "markdown",
   "metadata": {},
   "source": [
    "#### Thankfully, we can obtain information on the number of consumer accounts for some of institutions from the FDIC"
   ]
  },
  {
   "cell_type": "markdown",
   "metadata": {},
   "source": [
    "https://www.fdic.gov/bank/statistical/"
   ]
  },
  {
   "cell_type": "code",
   "execution_count": 11,
   "metadata": {},
   "outputs": [],
   "source": [
    "import os\n",
    "accnts_df = pd.DataFrame()\n",
    "directory = 'data/transaction_accounts'\n",
    "for file in os.listdir(directory):\n",
    "    quarter = pd.to_datetime(file.split('_')[2], format='%Y%m%d') # Get the date info from filename\n",
    "    # 'trnipcoc' corresponds to the number of accounts from 'Individuals, partnerships and corporations'\n",
    "    temp_df = pd.read_csv(os.path.join(directory,file), header=0, usecols=['namehcr', 'trnipcoc'])\n",
    "    temp_df = temp_df.dropna()\n",
    "    temp_df['date'] = quarter\n",
    "    accnts_df = accnts_df.append(temp_df)\n",
    "accnts_df.columns = ['company', 'num_indiv_accnts', 'date']\n",
    "accnts_df = pd.DataFrame(accnts_df.groupby(by=['date', 'company']).sum())\n",
    "accnts_df = accnts_df.reset_index()\n",
    "accnts_df['company'] = accnts_df['company'].str.strip()"
   ]
  },
  {
   "cell_type": "markdown",
   "metadata": {},
   "source": [
    "#### Though this data set contains many of the relevant instituions, it doesn't contain all of the financial institutions from the complaints dataset"
   ]
  },
  {
   "cell_type": "code",
   "execution_count": 12,
   "metadata": {},
   "outputs": [
    {
     "data": {
      "text/plain": [
       "[]"
      ]
     },
     "execution_count": 12,
     "metadata": {},
     "output_type": "execute_result"
    }
   ],
   "source": [
    "[l for l in accnts_df['company'] if 'Equifax' in l or 'EQUIFAX' in l]"
   ]
  },
  {
   "cell_type": "markdown",
   "metadata": {},
   "source": [
    "#### We need to alter the complaints data to conform  to the accounts data"
   ]
  },
  {
   "cell_type": "code",
   "execution_count": 13,
   "metadata": {
    "scrolled": true
   },
   "outputs": [
    {
     "data": {
      "text/html": [
       "<div>\n",
       "<style scoped>\n",
       "    .dataframe tbody tr th:only-of-type {\n",
       "        vertical-align: middle;\n",
       "    }\n",
       "\n",
       "    .dataframe tbody tr th {\n",
       "        vertical-align: top;\n",
       "    }\n",
       "\n",
       "    .dataframe thead th {\n",
       "        text-align: right;\n",
       "    }\n",
       "</style>\n",
       "<table border=\"1\" class=\"dataframe\">\n",
       "  <thead>\n",
       "    <tr style=\"text-align: right;\">\n",
       "      <th></th>\n",
       "      <th>date</th>\n",
       "      <th>company</th>\n",
       "      <th>complaints</th>\n",
       "    </tr>\n",
       "  </thead>\n",
       "  <tbody>\n",
       "    <tr>\n",
       "      <td>29195</td>\n",
       "      <td>2017Q3</td>\n",
       "      <td>EQUIFAX, INC.</td>\n",
       "      <td>14348</td>\n",
       "    </tr>\n",
       "    <tr>\n",
       "      <td>43308</td>\n",
       "      <td>2019Q2</td>\n",
       "      <td>EQUIFAX, INC.</td>\n",
       "      <td>10002</td>\n",
       "    </tr>\n",
       "    <tr>\n",
       "      <td>44444</td>\n",
       "      <td>2019Q2</td>\n",
       "      <td>TRANSUNION INTERMEDIATE HOLDINGS, INC.</td>\n",
       "      <td>9831</td>\n",
       "    </tr>\n",
       "    <tr>\n",
       "      <td>43344</td>\n",
       "      <td>2019Q2</td>\n",
       "      <td>Experian Information Solutions Inc.</td>\n",
       "      <td>9243</td>\n",
       "    </tr>\n",
       "    <tr>\n",
       "      <td>41388</td>\n",
       "      <td>2019Q1</td>\n",
       "      <td>EQUIFAX, INC.</td>\n",
       "      <td>8131</td>\n",
       "    </tr>\n",
       "    <tr>\n",
       "      <td>41427</td>\n",
       "      <td>2019Q1</td>\n",
       "      <td>Experian Information Solutions Inc.</td>\n",
       "      <td>7848</td>\n",
       "    </tr>\n",
       "    <tr>\n",
       "      <td>39441</td>\n",
       "      <td>2018Q4</td>\n",
       "      <td>EQUIFAX, INC.</td>\n",
       "      <td>7822</td>\n",
       "    </tr>\n",
       "    <tr>\n",
       "      <td>33311</td>\n",
       "      <td>2018Q1</td>\n",
       "      <td>Experian Information Solutions Inc.</td>\n",
       "      <td>7765</td>\n",
       "    </tr>\n",
       "    <tr>\n",
       "      <td>35399</td>\n",
       "      <td>2018Q2</td>\n",
       "      <td>Experian Information Solutions Inc.</td>\n",
       "      <td>7748</td>\n",
       "    </tr>\n",
       "    <tr>\n",
       "      <td>42449</td>\n",
       "      <td>2019Q1</td>\n",
       "      <td>TRANSUNION INTERMEDIATE HOLDINGS, INC.</td>\n",
       "      <td>7618</td>\n",
       "    </tr>\n",
       "  </tbody>\n",
       "</table>\n",
       "</div>"
      ],
      "text/plain": [
       "         date                                 company  complaints\n",
       "29195  2017Q3                           EQUIFAX, INC.       14348\n",
       "43308  2019Q2                           EQUIFAX, INC.       10002\n",
       "44444  2019Q2  TRANSUNION INTERMEDIATE HOLDINGS, INC.        9831\n",
       "43344  2019Q2     Experian Information Solutions Inc.        9243\n",
       "41388  2019Q1                           EQUIFAX, INC.        8131\n",
       "41427  2019Q1     Experian Information Solutions Inc.        7848\n",
       "39441  2018Q4                           EQUIFAX, INC.        7822\n",
       "33311  2018Q1     Experian Information Solutions Inc.        7765\n",
       "35399  2018Q2     Experian Information Solutions Inc.        7748\n",
       "42449  2019Q1  TRANSUNION INTERMEDIATE HOLDINGS, INC.        7618"
      ]
     },
     "execution_count": 13,
     "metadata": {},
     "output_type": "execute_result"
    }
   ],
   "source": [
    "# Reduce the complaints df to just the counts\n",
    "complaints_count = complaints_df_cut[['Date received', 'Company']]\n",
    "complaints_count = complaints_count.dropna()\n",
    "complaints_count.columns = ['date', 'company']\n",
    "# Convert to quarterly (accounts data is quarterly) counts for each company\n",
    "complaints_count = complaints_count.groupby(by=[complaints_count['date'].dt.to_period('Q'), 'company'])['date'].size()\n",
    "complaints_count = pd.DataFrame(complaints_count)\n",
    "complaints_count.columns = ['complaints']\n",
    "complaints_count = complaints_count.reset_index()\n",
    "complaints_count.sort_values(by='complaints', ascending=False).head(10)"
   ]
  },
  {
   "cell_type": "markdown",
   "metadata": {},
   "source": [
    "#### Similar to above, we can see that the credit reporting agencies dominate the number of complaints"
   ]
  },
  {
   "cell_type": "markdown",
   "metadata": {},
   "source": [
    "#### An issue arises when on tries to simply merge the accounts data with the complaints data. Chiefly that the data for each is filed under different subsidiaries. We need a means of merging all the complaints and accounts from the subsidiaries."
   ]
  },
  {
   "cell_type": "markdown",
   "metadata": {},
   "source": [
    "#### Here's an example:"
   ]
  },
  {
   "cell_type": "code",
   "execution_count": 14,
   "metadata": {},
   "outputs": [
    {
     "data": {
      "text/html": [
       "<div>\n",
       "<style scoped>\n",
       "    .dataframe tbody tr th:only-of-type {\n",
       "        vertical-align: middle;\n",
       "    }\n",
       "\n",
       "    .dataframe tbody tr th {\n",
       "        vertical-align: top;\n",
       "    }\n",
       "\n",
       "    .dataframe thead th {\n",
       "        text-align: right;\n",
       "    }\n",
       "</style>\n",
       "<table border=\"1\" class=\"dataframe\">\n",
       "  <thead>\n",
       "    <tr style=\"text-align: right;\">\n",
       "      <th></th>\n",
       "      <th>date</th>\n",
       "      <th>company</th>\n",
       "      <th>complaints</th>\n",
       "    </tr>\n",
       "  </thead>\n",
       "  <tbody>\n",
       "    <tr>\n",
       "      <td>22</td>\n",
       "      <td>2012Q1</td>\n",
       "      <td>BANK OF AMERICA, NATIONAL ASSOCIATION</td>\n",
       "      <td>2885</td>\n",
       "    </tr>\n",
       "    <tr>\n",
       "      <td>219</td>\n",
       "      <td>2012Q2</td>\n",
       "      <td>BANK OF AMERICA, NATIONAL ASSOCIATION</td>\n",
       "      <td>5000</td>\n",
       "    </tr>\n",
       "    <tr>\n",
       "      <td>469</td>\n",
       "      <td>2012Q3</td>\n",
       "      <td>BANK OF AMERICA, NATIONAL ASSOCIATION</td>\n",
       "      <td>4441</td>\n",
       "    </tr>\n",
       "    <tr>\n",
       "      <td>745</td>\n",
       "      <td>2012Q4</td>\n",
       "      <td>BANK OF AMERICA, NATIONAL ASSOCIATION</td>\n",
       "      <td>3722</td>\n",
       "    </tr>\n",
       "    <tr>\n",
       "      <td>1047</td>\n",
       "      <td>2013Q1</td>\n",
       "      <td>BANK OF AMERICA, NATIONAL ASSOCIATION</td>\n",
       "      <td>5975</td>\n",
       "    </tr>\n",
       "  </tbody>\n",
       "</table>\n",
       "</div>"
      ],
      "text/plain": [
       "        date                                company  complaints\n",
       "22    2012Q1  BANK OF AMERICA, NATIONAL ASSOCIATION        2885\n",
       "219   2012Q2  BANK OF AMERICA, NATIONAL ASSOCIATION        5000\n",
       "469   2012Q3  BANK OF AMERICA, NATIONAL ASSOCIATION        4441\n",
       "745   2012Q4  BANK OF AMERICA, NATIONAL ASSOCIATION        3722\n",
       "1047  2013Q1  BANK OF AMERICA, NATIONAL ASSOCIATION        5975"
      ]
     },
     "execution_count": 14,
     "metadata": {},
     "output_type": "execute_result"
    }
   ],
   "source": [
    "complaints_count[complaints_count['company'] == 'BANK OF AMERICA, NATIONAL ASSOCIATION'].head()"
   ]
  },
  {
   "cell_type": "code",
   "execution_count": 15,
   "metadata": {},
   "outputs": [
    {
     "data": {
      "text/html": [
       "<div>\n",
       "<style scoped>\n",
       "    .dataframe tbody tr th:only-of-type {\n",
       "        vertical-align: middle;\n",
       "    }\n",
       "\n",
       "    .dataframe tbody tr th {\n",
       "        vertical-align: top;\n",
       "    }\n",
       "\n",
       "    .dataframe thead th {\n",
       "        text-align: right;\n",
       "    }\n",
       "</style>\n",
       "<table border=\"1\" class=\"dataframe\">\n",
       "  <thead>\n",
       "    <tr style=\"text-align: right;\">\n",
       "      <th></th>\n",
       "      <th>date</th>\n",
       "      <th>company</th>\n",
       "      <th>num_indiv_accnts</th>\n",
       "    </tr>\n",
       "  </thead>\n",
       "  <tbody>\n",
       "  </tbody>\n",
       "</table>\n",
       "</div>"
      ],
      "text/plain": [
       "Empty DataFrame\n",
       "Columns: [date, company, num_indiv_accnts]\n",
       "Index: []"
      ]
     },
     "execution_count": 15,
     "metadata": {},
     "output_type": "execute_result"
    }
   ],
   "source": [
    "accnts_df[accnts_df['company'] == 'BANK OF AMERICA, NATIONAL ASSOCIATION'].head()"
   ]
  },
  {
   "cell_type": "code",
   "execution_count": 16,
   "metadata": {},
   "outputs": [
    {
     "data": {
      "text/html": [
       "<div>\n",
       "<style scoped>\n",
       "    .dataframe tbody tr th:only-of-type {\n",
       "        vertical-align: middle;\n",
       "    }\n",
       "\n",
       "    .dataframe tbody tr th {\n",
       "        vertical-align: top;\n",
       "    }\n",
       "\n",
       "    .dataframe thead th {\n",
       "        text-align: right;\n",
       "    }\n",
       "</style>\n",
       "<table border=\"1\" class=\"dataframe\">\n",
       "  <thead>\n",
       "    <tr style=\"text-align: right;\">\n",
       "      <th></th>\n",
       "      <th>date</th>\n",
       "      <th>company</th>\n",
       "      <th>num_indiv_accnts</th>\n",
       "    </tr>\n",
       "  </thead>\n",
       "  <tbody>\n",
       "    <tr>\n",
       "      <td>321</td>\n",
       "      <td>2012-03-31</td>\n",
       "      <td>BANK OF AMERICA CORPORATION</td>\n",
       "      <td>140114965</td>\n",
       "    </tr>\n",
       "    <tr>\n",
       "      <td>5173</td>\n",
       "      <td>2012-06-30</td>\n",
       "      <td>BANK OF AMERICA CORPORATION</td>\n",
       "      <td>136984204</td>\n",
       "    </tr>\n",
       "    <tr>\n",
       "      <td>9992</td>\n",
       "      <td>2012-09-30</td>\n",
       "      <td>BANK OF AMERICA CORPORATION</td>\n",
       "      <td>147325270</td>\n",
       "    </tr>\n",
       "    <tr>\n",
       "      <td>14787</td>\n",
       "      <td>2012-12-31</td>\n",
       "      <td>BANK OF AMERICA CORPORATION</td>\n",
       "      <td>158349295</td>\n",
       "    </tr>\n",
       "    <tr>\n",
       "      <td>19518</td>\n",
       "      <td>2013-03-31</td>\n",
       "      <td>BANK OF AMERICA CORPORATION</td>\n",
       "      <td>142882000</td>\n",
       "    </tr>\n",
       "  </tbody>\n",
       "</table>\n",
       "</div>"
      ],
      "text/plain": [
       "            date                      company  num_indiv_accnts\n",
       "321   2012-03-31  BANK OF AMERICA CORPORATION         140114965\n",
       "5173  2012-06-30  BANK OF AMERICA CORPORATION         136984204\n",
       "9992  2012-09-30  BANK OF AMERICA CORPORATION         147325270\n",
       "14787 2012-12-31  BANK OF AMERICA CORPORATION         158349295\n",
       "19518 2013-03-31  BANK OF AMERICA CORPORATION         142882000"
      ]
     },
     "execution_count": 16,
     "metadata": {},
     "output_type": "execute_result"
    }
   ],
   "source": [
    "accnts_df[accnts_df['company'] == 'BANK OF AMERICA CORPORATION'].head()"
   ]
  },
  {
   "cell_type": "markdown",
   "metadata": {},
   "source": [
    "#### The complaints for Bank of America are filed under their subsidiary \"Bank of America, National Assocation\", while the data regarding the number of accounts is under the parent company \"Bank of America Corporation\". While we could use some means of matching the company names, this is not a fool proof solution. Instead we are able to obtain information regarding the relationship of parent and subsidaries. We will use this information to link these two."
   ]
  },
  {
   "cell_type": "markdown",
   "metadata": {},
   "source": [
    "### Attributes and Relationships Data"
   ]
  },
  {
   "cell_type": "markdown",
   "metadata": {},
   "source": [
    "#### Instead of matching on company name and matching text, we can use the id assigned to these instutions by the Federal Reserve. The FFIEC provides this data. "
   ]
  },
  {
   "cell_type": "markdown",
   "metadata": {},
   "source": [
    "https://www.ffiec.gov/npw/FinancialReport/DataDownload"
   ]
  },
  {
   "cell_type": "code",
   "execution_count": 17,
   "metadata": {},
   "outputs": [
    {
     "data": {
      "text/html": [
       "<div>\n",
       "<style scoped>\n",
       "    .dataframe tbody tr th:only-of-type {\n",
       "        vertical-align: middle;\n",
       "    }\n",
       "\n",
       "    .dataframe tbody tr th {\n",
       "        vertical-align: top;\n",
       "    }\n",
       "\n",
       "    .dataframe thead th {\n",
       "        text-align: right;\n",
       "    }\n",
       "</style>\n",
       "<table border=\"1\" class=\"dataframe\">\n",
       "  <thead>\n",
       "    <tr style=\"text-align: right;\">\n",
       "      <th></th>\n",
       "      <th>id</th>\n",
       "      <th>company</th>\n",
       "      <th>company_short</th>\n",
       "    </tr>\n",
       "  </thead>\n",
       "  <tbody>\n",
       "    <tr>\n",
       "      <td>0</td>\n",
       "      <td>37</td>\n",
       "      <td>BANK OF HANCOCK COUNTY</td>\n",
       "      <td>BANK OF HANCOCK CTY</td>\n",
       "    </tr>\n",
       "    <tr>\n",
       "      <td>1</td>\n",
       "      <td>73</td>\n",
       "      <td>UTILITY EMPLOYEES FEDERAL CREDIT UNION</td>\n",
       "      <td>UTILITY EMPL FCU</td>\n",
       "    </tr>\n",
       "    <tr>\n",
       "      <td>2</td>\n",
       "      <td>242</td>\n",
       "      <td>FIRST COMMUNITY BANK XENIA-FLORA</td>\n",
       "      <td>FIRST CMNTY BK XENIA FLORA</td>\n",
       "    </tr>\n",
       "    <tr>\n",
       "      <td>3</td>\n",
       "      <td>279</td>\n",
       "      <td>MINEOLA COMMUNITY BANK, SSB</td>\n",
       "      <td>MINEOLA CMNTY BK SSB</td>\n",
       "    </tr>\n",
       "    <tr>\n",
       "      <td>4</td>\n",
       "      <td>354</td>\n",
       "      <td>BISON STATE BANK</td>\n",
       "      <td>BISON ST BK</td>\n",
       "    </tr>\n",
       "  </tbody>\n",
       "</table>\n",
       "</div>"
      ],
      "text/plain": [
       "    id                                 company                   company_short\n",
       "0   37                  BANK OF HANCOCK COUNTY  BANK OF HANCOCK CTY           \n",
       "1   73  UTILITY EMPLOYEES FEDERAL CREDIT UNION  UTILITY EMPL FCU              \n",
       "2  242        FIRST COMMUNITY BANK XENIA-FLORA  FIRST CMNTY BK XENIA FLORA    \n",
       "3  279             MINEOLA COMMUNITY BANK, SSB  MINEOLA CMNTY BK SSB          \n",
       "4  354                        BISON STATE BANK  BISON ST BK                   "
      ]
     },
     "execution_count": 17,
     "metadata": {},
     "output_type": "execute_result"
    }
   ],
   "source": [
    "attributes_df = pd.read_csv('data/CSV_ATTRIBUTES_ACTIVE.CSV', header=0, usecols=['#ID_RSSD', 'NM_LGL', 'NM_SHORT'])\n",
    "attributes_df.columns = ['id', 'company', 'company_short']\n",
    "attributes_df['company'] = attributes_df['company'].str.strip()\n",
    "attributes_df.head()"
   ]
  },
  {
   "cell_type": "markdown",
   "metadata": {},
   "source": [
    "#### In addition, they provide parent and subsidiary information which we will use to match companies."
   ]
  },
  {
   "cell_type": "code",
   "execution_count": 18,
   "metadata": {},
   "outputs": [
    {
     "data": {
      "text/html": [
       "<div>\n",
       "<style scoped>\n",
       "    .dataframe tbody tr th:only-of-type {\n",
       "        vertical-align: middle;\n",
       "    }\n",
       "\n",
       "    .dataframe tbody tr th {\n",
       "        vertical-align: top;\n",
       "    }\n",
       "\n",
       "    .dataframe thead th {\n",
       "        text-align: right;\n",
       "    }\n",
       "</style>\n",
       "<table border=\"1\" class=\"dataframe\">\n",
       "  <thead>\n",
       "    <tr style=\"text-align: right;\">\n",
       "      <th></th>\n",
       "      <th>id_parent</th>\n",
       "      <th>id</th>\n",
       "      <th>end_date</th>\n",
       "      <th>end_year</th>\n",
       "    </tr>\n",
       "  </thead>\n",
       "  <tbody>\n",
       "    <tr>\n",
       "      <td>0</td>\n",
       "      <td>130</td>\n",
       "      <td>1081305</td>\n",
       "      <td>1986-02-14</td>\n",
       "      <td>1986</td>\n",
       "    </tr>\n",
       "    <tr>\n",
       "      <td>1</td>\n",
       "      <td>279</td>\n",
       "      <td>3923155</td>\n",
       "      <td>NaT</td>\n",
       "      <td>9999</td>\n",
       "    </tr>\n",
       "    <tr>\n",
       "      <td>2</td>\n",
       "      <td>505</td>\n",
       "      <td>2913168</td>\n",
       "      <td>2007-06-29</td>\n",
       "      <td>2007</td>\n",
       "    </tr>\n",
       "    <tr>\n",
       "      <td>3</td>\n",
       "      <td>505</td>\n",
       "      <td>2913168</td>\n",
       "      <td>NaT</td>\n",
       "      <td>9999</td>\n",
       "    </tr>\n",
       "    <tr>\n",
       "      <td>4</td>\n",
       "      <td>505</td>\n",
       "      <td>3079566</td>\n",
       "      <td>2003-02-12</td>\n",
       "      <td>2003</td>\n",
       "    </tr>\n",
       "  </tbody>\n",
       "</table>\n",
       "</div>"
      ],
      "text/plain": [
       "   id_parent       id   end_date  end_year\n",
       "0        130  1081305 1986-02-14      1986\n",
       "1        279  3923155        NaT      9999\n",
       "2        505  2913168 2007-06-29      2007\n",
       "3        505  2913168        NaT      9999\n",
       "4        505  3079566 2003-02-12      2003"
      ]
     },
     "execution_count": 18,
     "metadata": {},
     "output_type": "execute_result"
    }
   ],
   "source": [
    "relationships_df = pd.read_csv('data/CSV_RELATIONSHIPS.CSV', header=0, usecols=['#ID_RSSD_PARENT', 'ID_RSSD_OFFSPRING', 'D_DT_END'])\n",
    "relationships_df.columns = ['id_parent', 'id', 'end_date']\n",
    "relationships_df['end_year'] = relationships_df['end_date'].str.split().apply(lambda x: x[0]).str.split('/').apply(lambda x: int(x[-1]))\n",
    "relationships_df.loc[relationships_df['end_year'] == 9999, 'end_date'] = None # Make current relationship end_dates None for datetime conversion\n",
    "relationships_df['end_date'] = pd.to_datetime(relationships_df['end_date'])\n",
    "relationships_df.head()"
   ]
  },
  {
   "cell_type": "markdown",
   "metadata": {},
   "source": [
    "#### We will now merge our prior data with this new id data"
   ]
  },
  {
   "cell_type": "code",
   "execution_count": 19,
   "metadata": {
    "scrolled": true
   },
   "outputs": [],
   "source": [
    "# Get the id's for each company\n",
    "accnts_df = accnts_df.merge(attributes_df, on='company', how='left')\n",
    "accnts_df = accnts_df.merge(relationships_df, on='id', how='left')\n",
    "\n",
    "# Get the parent (na they have none) for each company\n",
    "complaints_count = complaints_count.merge(attributes_df, on='company', how='left')\n",
    "complaints_count = complaints_count.merge(relationships_df, on='id', how='left')\n",
    "\n",
    "# Get ids for companies who has no parent, presently has a parent, or had a parent through the data collection date\n",
    "complaints_count = complaints_count[(complaints_count['end_date'].isnull()) | (complaints_count['date'].dt.start_time < complaints_count['end_date'])]\n",
    "accnts_df = accnts_df[(accnts_df['end_date'].isnull()) | (accnts_df['date'] < accnts_df['end_date'])]\n",
    "accnts_df['date'] = accnts_df['date'].dt.to_period('Q') # Convert date to quarterly to reconcile with complaints"
   ]
  },
  {
   "cell_type": "markdown",
   "metadata": {},
   "source": [
    "#### Now we finally merge our accounts data with our complaints data"
   ]
  },
  {
   "cell_type": "code",
   "execution_count": 20,
   "metadata": {},
   "outputs": [],
   "source": [
    "parent_child_df = accnts_df.merge(complaints_count, how='outer', on=['date', 'company', 'id', 'company_short', 'id_parent', 'end_date', 'end_year'])\n",
    "parent_child_df = parent_child_df.drop(['end_date', 'end_year'], axis=1)\n",
    "\n",
    "## Sum up any company's complaints and number of accounts for each time period\n",
    "# Will be used to replace duplicate company/date rows\n",
    "temp_replace = pd.DataFrame(parent_child_df.groupby(by=['date', 'id'])['complaints', 'num_indiv_accnts'].sum())\n",
    "## Grab the first of each company/date row\n",
    "# Sort on id_parent. If there is one make it first', rest of data will be replaced\n",
    "parent_child_df = parent_child_df.sort_values('id_parent').groupby(['date', 'id']).first()\n",
    "# Now do the replacement\n",
    "parent_child_df = parent_child_df.drop(['complaints', 'num_indiv_accnts'], axis=1).merge(temp_replace, on=['date','id'], how='inner')"
   ]
  },
  {
   "cell_type": "code",
   "execution_count": 21,
   "metadata": {},
   "outputs": [
    {
     "data": {
      "text/html": [
       "<div>\n",
       "<style scoped>\n",
       "    .dataframe tbody tr th:only-of-type {\n",
       "        vertical-align: middle;\n",
       "    }\n",
       "\n",
       "    .dataframe tbody tr th {\n",
       "        vertical-align: top;\n",
       "    }\n",
       "\n",
       "    .dataframe thead th {\n",
       "        text-align: right;\n",
       "    }\n",
       "</style>\n",
       "<table border=\"1\" class=\"dataframe\">\n",
       "  <thead>\n",
       "    <tr style=\"text-align: right;\">\n",
       "      <th></th>\n",
       "      <th></th>\n",
       "      <th>company</th>\n",
       "      <th>company_short</th>\n",
       "      <th>id_parent</th>\n",
       "      <th>complaints</th>\n",
       "      <th>num_indiv_accnts</th>\n",
       "    </tr>\n",
       "    <tr>\n",
       "      <th>date</th>\n",
       "      <th>id</th>\n",
       "      <th></th>\n",
       "      <th></th>\n",
       "      <th></th>\n",
       "      <th></th>\n",
       "      <th></th>\n",
       "    </tr>\n",
       "  </thead>\n",
       "  <tbody>\n",
       "    <tr>\n",
       "      <td rowspan=\"5\" valign=\"top\">2012Q1</td>\n",
       "      <td>12311.0</td>\n",
       "      <td>HUNTINGTON NATIONAL BANK, THE</td>\n",
       "      <td>HUNTINGTON NB</td>\n",
       "      <td>1068191.0</td>\n",
       "      <td>25.0</td>\n",
       "      <td>0.0</td>\n",
       "    </tr>\n",
       "    <tr>\n",
       "      <td>30810.0</td>\n",
       "      <td>DISCOVER BANK</td>\n",
       "      <td>DISCOVER BK</td>\n",
       "      <td>3846375.0</td>\n",
       "      <td>182.0</td>\n",
       "      <td>0.0</td>\n",
       "    </tr>\n",
       "    <tr>\n",
       "      <td>35570.0</td>\n",
       "      <td>INVESTORS BANK</td>\n",
       "      <td>INVESTORS BK</td>\n",
       "      <td>2476869.0</td>\n",
       "      <td>2.0</td>\n",
       "      <td>0.0</td>\n",
       "    </tr>\n",
       "    <tr>\n",
       "      <td>49054.0</td>\n",
       "      <td>COMMERCE BANK</td>\n",
       "      <td>COMMERCE BK</td>\n",
       "      <td>2452630.0</td>\n",
       "      <td>9.0</td>\n",
       "      <td>0.0</td>\n",
       "    </tr>\n",
       "    <tr>\n",
       "      <td>75633.0</td>\n",
       "      <td>BMO HARRIS BANK NATIONAL ASSOCIATION</td>\n",
       "      <td>BMO HARRIS BK NA</td>\n",
       "      <td>1245415.0</td>\n",
       "      <td>31.0</td>\n",
       "      <td>0.0</td>\n",
       "    </tr>\n",
       "  </tbody>\n",
       "</table>\n",
       "</div>"
      ],
      "text/plain": [
       "                                             company  \\\n",
       "date   id                                              \n",
       "2012Q1 12311.0         HUNTINGTON NATIONAL BANK, THE   \n",
       "       30810.0                         DISCOVER BANK   \n",
       "       35570.0                        INVESTORS BANK   \n",
       "       49054.0                         COMMERCE BANK   \n",
       "       75633.0  BMO HARRIS BANK NATIONAL ASSOCIATION   \n",
       "\n",
       "                                 company_short  id_parent  complaints  \\\n",
       "date   id                                                               \n",
       "2012Q1 12311.0  HUNTINGTON NB                   1068191.0        25.0   \n",
       "       30810.0  DISCOVER BK                     3846375.0       182.0   \n",
       "       35570.0  INVESTORS BK                    2476869.0         2.0   \n",
       "       49054.0  COMMERCE BK                     2452630.0         9.0   \n",
       "       75633.0  BMO HARRIS BK NA                1245415.0        31.0   \n",
       "\n",
       "                num_indiv_accnts  \n",
       "date   id                         \n",
       "2012Q1 12311.0               0.0  \n",
       "       30810.0               0.0  \n",
       "       35570.0               0.0  \n",
       "       49054.0               0.0  \n",
       "       75633.0               0.0  "
      ]
     },
     "execution_count": 21,
     "metadata": {},
     "output_type": "execute_result"
    }
   ],
   "source": [
    "parent_child_df.head()"
   ]
  },
  {
   "cell_type": "markdown",
   "metadata": {},
   "source": [
    "#### However, we still need to merge our parent and subsidiaries. First we identify all of our subsidiaries"
   ]
  },
  {
   "cell_type": "code",
   "execution_count": 22,
   "metadata": {},
   "outputs": [],
   "source": [
    "child_df = parent_child_df[~parent_child_df['id_parent'].isnull()]"
   ]
  },
  {
   "cell_type": "markdown",
   "metadata": {},
   "source": [
    "#### We use the relationships dataset to construct a social network of companies"
   ]
  },
  {
   "cell_type": "code",
   "execution_count": 23,
   "metadata": {},
   "outputs": [],
   "source": [
    "relationships_graph = nx.from_pandas_edgelist(df=relationships_df, source='id_parent', target='id',edge_attr=['end_date'], create_using=nx.DiGraph())"
   ]
  },
  {
   "cell_type": "code",
   "execution_count": 24,
   "metadata": {},
   "outputs": [],
   "source": [
    "# Use the graph of parents and subsidiaries to recurse back to the root of each subsidiary node\n",
    "def get_root_nodes(node, g, passed_path = []):\n",
    "    parents = list(g.predecessors(node))\n",
    "    if passed_path:\n",
    "        path = passed_path\n",
    "    else:\n",
    "        path = []\n",
    "    newest_parent = None\n",
    "    newest_date = pd.Timestamp(0)\n",
    "    for p in parents: # Get the most current relationship\n",
    "        edge_data = g.get_edge_data(p, node)\n",
    "        if edge_data and pd.isna(edge_data['end_date']): # If null relationship is still active\n",
    "            newest_parent = p\n",
    "            newest_date = None\n",
    "            break\n",
    "        elif edge_data and edge_data['end_date'] > newest_date:\n",
    "            newest_parent = p\n",
    "            newest_date = edge_data['end_date']\n",
    "    if list(filter(lambda x: newest_parent == x[0], path)): # Loop in graph\n",
    "        newest_node = None\n",
    "        newest_date = pd.Timestamp(0)\n",
    "        for n in path:\n",
    "            if pd.isna(n[1]): # Relationship is current, return this\n",
    "                return n[0]\n",
    "            elif n[1] > newest_date:\n",
    "                newest_node = n[0]\n",
    "                newest_date = n[1]\n",
    "        return newest_node # Get the most recent\n",
    "    else:\n",
    "        path.append((newest_parent, newest_date))\n",
    "    if len(parents)==0:\n",
    "        return node\n",
    "    else:\n",
    "        return get_root_nodes(newest_parent, g, passed_path=path)"
   ]
  },
  {
   "cell_type": "markdown",
   "metadata": {},
   "source": [
    "#### Verify that Bank of America, National Association (id = 480228) links to its parent company Bank of America Corporation (id = 1073757)"
   ]
  },
  {
   "cell_type": "code",
   "execution_count": 25,
   "metadata": {
    "scrolled": false
   },
   "outputs": [
    {
     "data": {
      "text/html": [
       "<div>\n",
       "<style scoped>\n",
       "    .dataframe tbody tr th:only-of-type {\n",
       "        vertical-align: middle;\n",
       "    }\n",
       "\n",
       "    .dataframe tbody tr th {\n",
       "        vertical-align: top;\n",
       "    }\n",
       "\n",
       "    .dataframe thead th {\n",
       "        text-align: right;\n",
       "    }\n",
       "</style>\n",
       "<table border=\"1\" class=\"dataframe\">\n",
       "  <thead>\n",
       "    <tr style=\"text-align: right;\">\n",
       "      <th></th>\n",
       "      <th></th>\n",
       "      <th>company</th>\n",
       "      <th>company_short</th>\n",
       "      <th>id_parent</th>\n",
       "      <th>complaints</th>\n",
       "      <th>num_indiv_accnts</th>\n",
       "    </tr>\n",
       "    <tr>\n",
       "      <th>date</th>\n",
       "      <th>id</th>\n",
       "      <th></th>\n",
       "      <th></th>\n",
       "      <th></th>\n",
       "      <th></th>\n",
       "      <th></th>\n",
       "    </tr>\n",
       "  </thead>\n",
       "  <tbody>\n",
       "    <tr>\n",
       "      <td rowspan=\"2\" valign=\"top\">2012Q1</td>\n",
       "      <td>480228.0</td>\n",
       "      <td>BANK OF AMERICA, NATIONAL ASSOCIATION</td>\n",
       "      <td>BANK OF AMER NA</td>\n",
       "      <td>1199769.0</td>\n",
       "      <td>2885.0</td>\n",
       "      <td>0.0</td>\n",
       "    </tr>\n",
       "    <tr>\n",
       "      <td>1073757.0</td>\n",
       "      <td>BANK OF AMERICA CORPORATION</td>\n",
       "      <td>BANK OF AMER CORP</td>\n",
       "      <td>NaN</td>\n",
       "      <td>0.0</td>\n",
       "      <td>140114965.0</td>\n",
       "    </tr>\n",
       "  </tbody>\n",
       "</table>\n",
       "</div>"
      ],
      "text/plain": [
       "                                                company  \\\n",
       "date   id                                                 \n",
       "2012Q1 480228.0   BANK OF AMERICA, NATIONAL ASSOCIATION   \n",
       "       1073757.0            BANK OF AMERICA CORPORATION   \n",
       "\n",
       "                                   company_short  id_parent  complaints  \\\n",
       "date   id                                                                 \n",
       "2012Q1 480228.0   BANK OF AMER NA                 1199769.0      2885.0   \n",
       "       1073757.0  BANK OF AMER CORP                     NaN         0.0   \n",
       "\n",
       "                  num_indiv_accnts  \n",
       "date   id                           \n",
       "2012Q1 480228.0                0.0  \n",
       "       1073757.0       140114965.0  "
      ]
     },
     "execution_count": 25,
     "metadata": {},
     "output_type": "execute_result"
    }
   ],
   "source": [
    "parent_child_df.loc[(slice(None), [480228, 1073757]),:].head(2)"
   ]
  },
  {
   "cell_type": "code",
   "execution_count": 26,
   "metadata": {},
   "outputs": [
    {
     "data": {
      "text/plain": [
       "1073757"
      ]
     },
     "execution_count": 26,
     "metadata": {},
     "output_type": "execute_result"
    }
   ],
   "source": [
    "get_root_nodes(480228, relationships_graph)"
   ]
  },
  {
   "cell_type": "code",
   "execution_count": 27,
   "metadata": {
    "scrolled": true
   },
   "outputs": [],
   "source": [
    "child_df = parent_child_df[~parent_child_df['id_parent'].isnull()]\n",
    "# add_to_parent will contain the values of all the subsidiaries added together\n",
    "add_to_parent = pd.DataFrame(child_df.groupby(by=['date', 'id_parent'])['complaints', 'num_indiv_accnts'].sum()) # Add these to other rows in this df\n",
    "add_to_parent = add_to_parent.reset_index()\n",
    "add_to_parent['id_parent'] = add_to_parent['id_parent'].apply(get_root_nodes, args=(relationships_graph,[]))\n",
    "add_to_parent = add_to_parent.set_index(['date', 'id_parent'])\n",
    "add_to_parent.index.names = ['date', 'id']\n",
    "diff_idx = parent_child_df.index.difference(child_df.index)\n",
    "parent_child_df = parent_child_df.loc[diff_idx] # drop children from df, leaving just parents\n",
    "\n",
    "parent_child_df['complaints'] = parent_child_df['complaints'].add(add_to_parent['complaints'], fill_value=0).groupby(by=['date', 'id']).sum() # Add these to other rows in this df\n",
    "parent_child_df['num_indiv_accnts'] = parent_child_df['num_indiv_accnts'].add(add_to_parent['num_indiv_accnts'], fill_value=0).groupby(by=['date', 'id']).sum()\n",
    "parent_child_df = parent_child_df.drop('id_parent', axis=1)\n",
    "parent_child_df = parent_child_df[(parent_child_df != 0).all(1)]\n",
    "\n",
    "parent_child_df['complaints_per_10k'] = parent_child_df['complaints']/parent_child_df['num_indiv_accnts']*10000"
   ]
  },
  {
   "cell_type": "markdown",
   "metadata": {},
   "source": [
    "#### Now we are left with a parent child dataframe with only parents"
   ]
  },
  {
   "cell_type": "code",
   "execution_count": 47,
   "metadata": {
    "scrolled": true
   },
   "outputs": [
    {
     "data": {
      "text/html": [
       "<div>\n",
       "<style scoped>\n",
       "    .dataframe tbody tr th:only-of-type {\n",
       "        vertical-align: middle;\n",
       "    }\n",
       "\n",
       "    .dataframe tbody tr th {\n",
       "        vertical-align: top;\n",
       "    }\n",
       "\n",
       "    .dataframe thead th {\n",
       "        text-align: right;\n",
       "    }\n",
       "</style>\n",
       "<table border=\"1\" class=\"dataframe\">\n",
       "  <thead>\n",
       "    <tr style=\"text-align: right;\">\n",
       "      <th></th>\n",
       "      <th></th>\n",
       "      <th>company</th>\n",
       "      <th>company_short</th>\n",
       "      <th>complaints</th>\n",
       "      <th>num_indiv_accnts</th>\n",
       "      <th>complaints_per_10k</th>\n",
       "    </tr>\n",
       "    <tr>\n",
       "      <th>date</th>\n",
       "      <th>id</th>\n",
       "      <th></th>\n",
       "      <th></th>\n",
       "      <th></th>\n",
       "      <th></th>\n",
       "      <th></th>\n",
       "    </tr>\n",
       "  </thead>\n",
       "  <tbody>\n",
       "    <tr>\n",
       "      <td>2012Q1</td>\n",
       "      <td>1073757.0</td>\n",
       "      <td>BANK OF AMERICA CORPORATION</td>\n",
       "      <td>BANK OF AMER CORP</td>\n",
       "      <td>2885.0</td>\n",
       "      <td>280252928.0</td>\n",
       "      <td>0.102943</td>\n",
       "    </tr>\n",
       "    <tr>\n",
       "      <td>2012Q2</td>\n",
       "      <td>1073757.0</td>\n",
       "      <td>BANK OF AMERICA CORPORATION</td>\n",
       "      <td>BANK OF AMER CORP</td>\n",
       "      <td>5000.0</td>\n",
       "      <td>273990262.0</td>\n",
       "      <td>0.182488</td>\n",
       "    </tr>\n",
       "  </tbody>\n",
       "</table>\n",
       "</div>"
      ],
      "text/plain": [
       "                                      company                   company_short  \\\n",
       "date   id                                                                       \n",
       "2012Q1 1073757.0  BANK OF AMERICA CORPORATION  BANK OF AMER CORP                \n",
       "2012Q2 1073757.0  BANK OF AMERICA CORPORATION  BANK OF AMER CORP                \n",
       "\n",
       "                  complaints  num_indiv_accnts  complaints_per_10k  \n",
       "date   id                                                           \n",
       "2012Q1 1073757.0      2885.0       280252928.0            0.102943  \n",
       "2012Q2 1073757.0      5000.0       273990262.0            0.182488  "
      ]
     },
     "execution_count": 47,
     "metadata": {},
     "output_type": "execute_result"
    }
   ],
   "source": [
    "parent_child_df.loc[(slice(None), [480228, 1073757]),:].head(2)"
   ]
  },
  {
   "cell_type": "code",
   "execution_count": 30,
   "metadata": {},
   "outputs": [
    {
     "data": {
      "text/html": [
       "<div>\n",
       "<style scoped>\n",
       "    .dataframe tbody tr th:only-of-type {\n",
       "        vertical-align: middle;\n",
       "    }\n",
       "\n",
       "    .dataframe tbody tr th {\n",
       "        vertical-align: top;\n",
       "    }\n",
       "\n",
       "    .dataframe thead th {\n",
       "        text-align: right;\n",
       "    }\n",
       "</style>\n",
       "<table border=\"1\" class=\"dataframe\">\n",
       "  <thead>\n",
       "    <tr style=\"text-align: right;\">\n",
       "      <th></th>\n",
       "      <th></th>\n",
       "      <th>company</th>\n",
       "      <th>company_short</th>\n",
       "      <th>complaints</th>\n",
       "      <th>num_indiv_accnts</th>\n",
       "      <th>complaints_per_10k</th>\n",
       "    </tr>\n",
       "    <tr>\n",
       "      <th>date</th>\n",
       "      <th>id</th>\n",
       "      <th></th>\n",
       "      <th></th>\n",
       "      <th></th>\n",
       "      <th></th>\n",
       "      <th></th>\n",
       "    </tr>\n",
       "  </thead>\n",
       "  <tbody>\n",
       "    <tr>\n",
       "      <td rowspan=\"13\" valign=\"top\">2019Q2</td>\n",
       "      <td>1951350.0</td>\n",
       "      <td>CITIGROUP INC.</td>\n",
       "      <td>CITIGROUP</td>\n",
       "      <td>1969.0</td>\n",
       "      <td>455318142.0</td>\n",
       "      <td>0.043244</td>\n",
       "    </tr>\n",
       "    <tr>\n",
       "      <td>1039502.0</td>\n",
       "      <td>JPMORGAN CHASE &amp; CO.</td>\n",
       "      <td>JPMORGAN CHASE &amp; CO</td>\n",
       "      <td>2235.0</td>\n",
       "      <td>290455000.0</td>\n",
       "      <td>0.076948</td>\n",
       "    </tr>\n",
       "    <tr>\n",
       "      <td>1073757.0</td>\n",
       "      <td>BANK OF AMERICA CORPORATION</td>\n",
       "      <td>BANK OF AMER CORP</td>\n",
       "      <td>1986.0</td>\n",
       "      <td>234115000.0</td>\n",
       "      <td>0.084830</td>\n",
       "    </tr>\n",
       "    <tr>\n",
       "      <td>1120754.0</td>\n",
       "      <td>WELLS FARGO &amp; COMPANY</td>\n",
       "      <td>WELLS FARGO &amp; CO</td>\n",
       "      <td>2247.0</td>\n",
       "      <td>105938006.0</td>\n",
       "      <td>0.212105</td>\n",
       "    </tr>\n",
       "    <tr>\n",
       "      <td>1111435.0</td>\n",
       "      <td>STATE STREET CORPORATION</td>\n",
       "      <td>STATE STREET CORP</td>\n",
       "      <td>1.0</td>\n",
       "      <td>65277000.0</td>\n",
       "      <td>0.000153</td>\n",
       "    </tr>\n",
       "    <tr>\n",
       "      <td>3587146.0</td>\n",
       "      <td>BANK OF NEW YORK MELLON CORPORATION, THE</td>\n",
       "      <td>BANK OF NY MELLON CORP</td>\n",
       "      <td>8.0</td>\n",
       "      <td>63395093.0</td>\n",
       "      <td>0.001262</td>\n",
       "    </tr>\n",
       "    <tr>\n",
       "      <td>2961897.0</td>\n",
       "      <td>MITSUBISHI UFJ FINANCIAL GROUP, INC.</td>\n",
       "      <td>MITSUBISHI UFJ FNCL GRP</td>\n",
       "      <td>39.0</td>\n",
       "      <td>48330114.0</td>\n",
       "      <td>0.008070</td>\n",
       "    </tr>\n",
       "    <tr>\n",
       "      <td>1238565.0</td>\n",
       "      <td>TORONTO-DOMINION BANK, THE</td>\n",
       "      <td>TORONTO-DOMINION BK</td>\n",
       "      <td>501.0</td>\n",
       "      <td>44261956.0</td>\n",
       "      <td>0.113190</td>\n",
       "    </tr>\n",
       "    <tr>\n",
       "      <td>1069778.0</td>\n",
       "      <td>PNC FINANCIAL SERVICES GROUP, INC., THE</td>\n",
       "      <td>PNC FNCL SVC GROUP</td>\n",
       "      <td>76.0</td>\n",
       "      <td>39497986.0</td>\n",
       "      <td>0.019241</td>\n",
       "    </tr>\n",
       "    <tr>\n",
       "      <td>1119794.0</td>\n",
       "      <td>U.S. BANCORP</td>\n",
       "      <td>U S BC</td>\n",
       "      <td>594.0</td>\n",
       "      <td>34297556.0</td>\n",
       "      <td>0.173190</td>\n",
       "    </tr>\n",
       "    <tr>\n",
       "      <td>1070345.0</td>\n",
       "      <td>FIFTH THIRD BANCORP</td>\n",
       "      <td>FIFTH THIRD BC</td>\n",
       "      <td>980.0</td>\n",
       "      <td>16884924.0</td>\n",
       "      <td>0.580399</td>\n",
       "    </tr>\n",
       "    <tr>\n",
       "      <td>1199611.0</td>\n",
       "      <td>NORTHERN TRUST CORPORATION</td>\n",
       "      <td>NORTHERN TR CORP</td>\n",
       "      <td>6.0</td>\n",
       "      <td>14089146.0</td>\n",
       "      <td>0.004259</td>\n",
       "    </tr>\n",
       "    <tr>\n",
       "      <td>1131787.0</td>\n",
       "      <td>SUNTRUST BANKS, INC.</td>\n",
       "      <td>SUNTRUST BK</td>\n",
       "      <td>312.0</td>\n",
       "      <td>13974680.0</td>\n",
       "      <td>0.223261</td>\n",
       "    </tr>\n",
       "  </tbody>\n",
       "</table>\n",
       "</div>"
      ],
      "text/plain": [
       "                                                   company  \\\n",
       "date   id                                                    \n",
       "2019Q2 1951350.0                            CITIGROUP INC.   \n",
       "       1039502.0                      JPMORGAN CHASE & CO.   \n",
       "       1073757.0               BANK OF AMERICA CORPORATION   \n",
       "       1120754.0                     WELLS FARGO & COMPANY   \n",
       "       1111435.0                  STATE STREET CORPORATION   \n",
       "       3587146.0  BANK OF NEW YORK MELLON CORPORATION, THE   \n",
       "       2961897.0      MITSUBISHI UFJ FINANCIAL GROUP, INC.   \n",
       "       1238565.0                TORONTO-DOMINION BANK, THE   \n",
       "       1069778.0   PNC FINANCIAL SERVICES GROUP, INC., THE   \n",
       "       1119794.0                              U.S. BANCORP   \n",
       "       1070345.0                       FIFTH THIRD BANCORP   \n",
       "       1199611.0                NORTHERN TRUST CORPORATION   \n",
       "       1131787.0                      SUNTRUST BANKS, INC.   \n",
       "\n",
       "                                   company_short  complaints  \\\n",
       "date   id                                                      \n",
       "2019Q2 1951350.0  CITIGROUP                           1969.0   \n",
       "       1039502.0  JPMORGAN CHASE & CO                 2235.0   \n",
       "       1073757.0  BANK OF AMER CORP                   1986.0   \n",
       "       1120754.0  WELLS FARGO & CO                    2247.0   \n",
       "       1111435.0  STATE STREET CORP                      1.0   \n",
       "       3587146.0  BANK OF NY MELLON CORP                 8.0   \n",
       "       2961897.0  MITSUBISHI UFJ FNCL GRP               39.0   \n",
       "       1238565.0  TORONTO-DOMINION BK                  501.0   \n",
       "       1069778.0  PNC FNCL SVC GROUP                    76.0   \n",
       "       1119794.0  U S BC                               594.0   \n",
       "       1070345.0  FIFTH THIRD BC                       980.0   \n",
       "       1199611.0  NORTHERN TR CORP                       6.0   \n",
       "       1131787.0  SUNTRUST BK                          312.0   \n",
       "\n",
       "                  num_indiv_accnts  complaints_per_10k  \n",
       "date   id                                               \n",
       "2019Q2 1951350.0       455318142.0            0.043244  \n",
       "       1039502.0       290455000.0            0.076948  \n",
       "       1073757.0       234115000.0            0.084830  \n",
       "       1120754.0       105938006.0            0.212105  \n",
       "       1111435.0        65277000.0            0.000153  \n",
       "       3587146.0        63395093.0            0.001262  \n",
       "       2961897.0        48330114.0            0.008070  \n",
       "       1238565.0        44261956.0            0.113190  \n",
       "       1069778.0        39497986.0            0.019241  \n",
       "       1119794.0        34297556.0            0.173190  \n",
       "       1070345.0        16884924.0            0.580399  \n",
       "       1199611.0        14089146.0            0.004259  \n",
       "       1131787.0        13974680.0            0.223261  "
      ]
     },
     "execution_count": 30,
     "metadata": {},
     "output_type": "execute_result"
    }
   ],
   "source": [
    "top15_accnts = accnts_df.sort_values('num_indiv_accnts', ascending=False)['id'].unique()[:15]\n",
    "parent_child_df.loc[('2019Q2', top15_accnts),:].sort_values('num_indiv_accnts', ascending=False)"
   ]
  },
  {
   "cell_type": "markdown",
   "metadata": {},
   "source": [
    "#### A problem with this naive summing of the subsidiary companies is the potential for double counting customers. We can see for the second quarer of 2019 the four largest banks each have roughly the same number of complaints, yet their number of accounts varies considerably. Other methods would need to be pursued in order to ensure that this issue is minimized. Further, it is unclear how translatable the complaints of a subsidiary apply to the parent. In the case of Bank of America Corporation and Bank of America, National Association a close assocation might be clear; however, ascribing all the complaints from varied subsidiaries to the parent might not be appropriate, especially in the case of distict differences in the operation of the subsidary or in the organizational and management structures. Suffice to say that this analysis becomes less effectual as the complexity and differences between subsidary and parent increase and is at its best when investigating companies with few subsidaries and with little differences between their operation.  "
   ]
  },
  {
   "cell_type": "code",
   "execution_count": 145,
   "metadata": {
    "scrolled": true
   },
   "outputs": [
    {
     "data": {
      "text/html": [
       "<div>\n",
       "<style scoped>\n",
       "    .dataframe tbody tr th:only-of-type {\n",
       "        vertical-align: middle;\n",
       "    }\n",
       "\n",
       "    .dataframe tbody tr th {\n",
       "        vertical-align: top;\n",
       "    }\n",
       "\n",
       "    .dataframe thead th {\n",
       "        text-align: right;\n",
       "    }\n",
       "</style>\n",
       "<table border=\"1\" class=\"dataframe\">\n",
       "  <thead>\n",
       "    <tr style=\"text-align: right;\">\n",
       "      <th></th>\n",
       "      <th></th>\n",
       "      <th>company</th>\n",
       "      <th>company_short</th>\n",
       "      <th>complaints</th>\n",
       "      <th>num_indiv_accnts</th>\n",
       "      <th>complaints_per_10k</th>\n",
       "    </tr>\n",
       "    <tr>\n",
       "      <th>date</th>\n",
       "      <th>id</th>\n",
       "      <th></th>\n",
       "      <th></th>\n",
       "      <th></th>\n",
       "      <th></th>\n",
       "      <th></th>\n",
       "    </tr>\n",
       "  </thead>\n",
       "  <tbody>\n",
       "    <tr>\n",
       "      <td rowspan=\"5\" valign=\"top\">2019Q2</td>\n",
       "      <td>1391237.0</td>\n",
       "      <td>BANCO BILBAO VIZCAYA ARGENTARIA, S.A.</td>\n",
       "      <td>Banco Bilbao</td>\n",
       "      <td>181.0</td>\n",
       "      <td>3196194.0</td>\n",
       "      <td>0.566299</td>\n",
       "    </tr>\n",
       "    <tr>\n",
       "      <td>1447376.0</td>\n",
       "      <td>UNITED SERVICES AUTOMOBILE ASSOCIATION</td>\n",
       "      <td>United Services</td>\n",
       "      <td>347.0</td>\n",
       "      <td>9213533.0</td>\n",
       "      <td>0.376620</td>\n",
       "    </tr>\n",
       "    <tr>\n",
       "      <td>1562859.0</td>\n",
       "      <td>ALLY FINANCIAL INC.</td>\n",
       "      <td>Ally Financial Inc.</td>\n",
       "      <td>284.0</td>\n",
       "      <td>3669000.0</td>\n",
       "      <td>0.774053</td>\n",
       "    </tr>\n",
       "    <tr>\n",
       "      <td>3846375.0</td>\n",
       "      <td>DISCOVER FINANCIAL SERVICES</td>\n",
       "      <td>Discover Financial Services</td>\n",
       "      <td>539.0</td>\n",
       "      <td>876365.0</td>\n",
       "      <td>6.150405</td>\n",
       "    </tr>\n",
       "    <tr>\n",
       "      <td>4224000.0</td>\n",
       "      <td>MP (THRIFT) LLC</td>\n",
       "      <td>Mp (Thrift) Llc</td>\n",
       "      <td>109.0</td>\n",
       "      <td>1118598.0</td>\n",
       "      <td>0.974434</td>\n",
       "    </tr>\n",
       "  </tbody>\n",
       "</table>\n",
       "</div>"
      ],
      "text/plain": [
       "                                                 company  \\\n",
       "date   id                                                  \n",
       "2019Q2 1391237.0   BANCO BILBAO VIZCAYA ARGENTARIA, S.A.   \n",
       "       1447376.0  UNITED SERVICES AUTOMOBILE ASSOCIATION   \n",
       "       1562859.0                     ALLY FINANCIAL INC.   \n",
       "       3846375.0             DISCOVER FINANCIAL SERVICES   \n",
       "       4224000.0                         MP (THRIFT) LLC   \n",
       "\n",
       "                                company_short  complaints  num_indiv_accnts  \\\n",
       "date   id                                                                     \n",
       "2019Q2 1391237.0                 Banco Bilbao       181.0         3196194.0   \n",
       "       1447376.0              United Services       347.0         9213533.0   \n",
       "       1562859.0          Ally Financial Inc.       284.0         3669000.0   \n",
       "       3846375.0  Discover Financial Services       539.0          876365.0   \n",
       "       4224000.0              Mp (Thrift) Llc       109.0         1118598.0   \n",
       "\n",
       "                  complaints_per_10k  \n",
       "date   id                             \n",
       "2019Q2 1391237.0            0.566299  \n",
       "       1447376.0            0.376620  \n",
       "       1562859.0            0.774053  \n",
       "       3846375.0            6.150405  \n",
       "       4224000.0            0.974434  "
      ]
     },
     "execution_count": 145,
     "metadata": {},
     "output_type": "execute_result"
    }
   ],
   "source": [
    "top15_complaints = parent_child_df.sort_values('complaints_per_10k', ascending=False)\n",
    "top15_complaints = top15_complaints[(top15_complaints['num_indiv_accnts']>100000) & \n",
    "                                    (top15_complaints['complaints']>100)]\n",
    "top15_complaints_idx = top15_complaints.index.get_level_values(1).unique()[:15]\n",
    "top15_complaints = top15_complaints.loc[(slice(None),top15_complaints_idx),:].sort_index()\n",
    "\n",
    "replace_name_dict = {}\n",
    "for name, name_short in zip(top15_complaints['company'].unique(), top15_complaints['company_short'].unique()) :\n",
    "    name_spl = name.strip().split()\n",
    "    if len(name_spl)<=3:\n",
    "        replace_name = ' '.join(name_spl).title()\n",
    "    else:\n",
    "        replace_name = ' '.join(name_spl[:2]).title()\n",
    "    replace_name_dict[name_short] = replace_name\n",
    "top15_complaints = top15_complaints.replace({'company_short': replace_name_dict})\n",
    "top15_complaints.tail()"
   ]
  },
  {
   "cell_type": "code",
   "execution_count": 142,
   "metadata": {
    "scrolled": false
   },
   "outputs": [
    {
     "data": {
      "image/png": "[encoded data removed]",
      "text/plain": [
       "<Figure size 720x288 with 1 Axes>"
      ]
     },
     "metadata": {
      "needs_background": "light"
     },
     "output_type": "display_data"
    }
   ],
   "source": [
    "fig, ax = plt.subplots(figsize=(10,4))\n",
    "\n",
    "for n, group in top15_complaints.groupby('company_short'):\n",
    "    complaints_index = pd.to_datetime({'year': group.index.get_level_values(0).year,\n",
    "                                       'month': group.index.get_level_values(0).month,\n",
    "                                       'day': 1}).unique()\n",
    "    plt.plot(complaints_index, group['complaints_per_10k'])\n"
   ]
  },
  {
   "cell_type": "code",
   "execution_count": 72,
   "metadata": {},
   "outputs": [],
   "source": []
  }
 ],
 "metadata": {
  "kernelspec": {
   "display_name": "Python 3",
   "language": "python",
   "name": "python3"
  },
  "language_info": {
   "codemirror_mode": {
    "name": "ipython",
    "version": 3
   },
   "file_extension": ".py",
   "mimetype": "text/x-python",
   "name": "python",
   "nbconvert_exporter": "python",
   "pygments_lexer": "ipython3",
   "version": "3.7.4"
  }
 },
 "nbformat": 4,
 "nbformat_minor": 2
}
